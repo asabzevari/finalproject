{
 "cells": [
  {
   "cell_type": "markdown",
   "metadata": {},
   "source": [
    "# Machine Learning with Voter Preferences"
   ]
  },
  {
   "cell_type": "code",
   "execution_count": 1,
   "metadata": {},
   "outputs": [],
   "source": [
    "# Arshiya Sabzevari, Colton Ragland, Noumik Thadani, Trevor Huis in 't Veld"
   ]
  },
  {
   "cell_type": "code",
   "execution_count": 2,
   "metadata": {},
   "outputs": [],
   "source": [
    "import warnings\n",
    "warnings.simplefilter(\"ignore\")\n",
    "import pandas as pd\n",
    "import numpy as np\n",
    "import sklearn as sk\n",
    "import matplotlib.pyplot as plt\n",
    "import time\n",
    "from sklearn.model_selection import GridSearchCV\n",
    "from sklearn.model_selection import cross_val_score"
   ]
  },
  {
   "cell_type": "code",
   "execution_count": 3,
   "metadata": {},
   "outputs": [],
   "source": [
    "%matplotlib inline"
   ]
  },
  {
   "cell_type": "markdown",
   "metadata": {},
   "source": [
    "## Data Prep\n",
    "Cleaning the rest of our data set to best fit our needs of analysis"
   ]
  },
  {
   "cell_type": "code",
   "execution_count": 4,
   "metadata": {},
   "outputs": [
    {
     "name": "stdout",
     "output_type": "stream",
     "text": [
      "(31945, 31)\n"
     ]
    },
    {
     "data": {
      "text/html": [
       "<div>\n",
       "<style scoped>\n",
       "    .dataframe tbody tr th:only-of-type {\n",
       "        vertical-align: middle;\n",
       "    }\n",
       "\n",
       "    .dataframe tbody tr th {\n",
       "        vertical-align: top;\n",
       "    }\n",
       "\n",
       "    .dataframe thead th {\n",
       "        text-align: right;\n",
       "    }\n",
       "</style>\n",
       "<table border=\"1\" class=\"dataframe\">\n",
       "  <thead>\n",
       "    <tr style=\"text-align: right;\">\n",
       "      <th></th>\n",
       "      <th>birthyr</th>\n",
       "      <th>gender</th>\n",
       "      <th>educ</th>\n",
       "      <th>race</th>\n",
       "      <th>marstat</th>\n",
       "      <th>region</th>\n",
       "      <th>National Economy</th>\n",
       "      <th>Income</th>\n",
       "      <th>Trump Approval</th>\n",
       "      <th>Congress Approval</th>\n",
       "      <th>...</th>\n",
       "      <th>M4A</th>\n",
       "      <th>Repeal ACA</th>\n",
       "      <th>Paris Accord</th>\n",
       "      <th>TPP</th>\n",
       "      <th>Ideology</th>\n",
       "      <th>sexuality</th>\n",
       "      <th>inputstate</th>\n",
       "      <th>EPA CO2 Regulate</th>\n",
       "      <th>Iran Deal</th>\n",
       "      <th>Party</th>\n",
       "    </tr>\n",
       "  </thead>\n",
       "  <tbody>\n",
       "    <tr>\n",
       "      <th>0</th>\n",
       "      <td>1950</td>\n",
       "      <td>2</td>\n",
       "      <td>6</td>\n",
       "      <td>2</td>\n",
       "      <td>3.0</td>\n",
       "      <td>1</td>\n",
       "      <td>4.0</td>\n",
       "      <td>3.0</td>\n",
       "      <td>4.0</td>\n",
       "      <td>4.0</td>\n",
       "      <td>...</td>\n",
       "      <td>1.0</td>\n",
       "      <td>2.0</td>\n",
       "      <td>2.0</td>\n",
       "      <td>2.0</td>\n",
       "      <td>2.0</td>\n",
       "      <td>1.0</td>\n",
       "      <td>34</td>\n",
       "      <td>1.0</td>\n",
       "      <td>2.0</td>\n",
       "      <td>1.0</td>\n",
       "    </tr>\n",
       "    <tr>\n",
       "      <th>3</th>\n",
       "      <td>1970</td>\n",
       "      <td>2</td>\n",
       "      <td>5</td>\n",
       "      <td>1</td>\n",
       "      <td>6.0</td>\n",
       "      <td>2</td>\n",
       "      <td>4.0</td>\n",
       "      <td>3.0</td>\n",
       "      <td>4.0</td>\n",
       "      <td>3.0</td>\n",
       "      <td>...</td>\n",
       "      <td>1.0</td>\n",
       "      <td>2.0</td>\n",
       "      <td>2.0</td>\n",
       "      <td>2.0</td>\n",
       "      <td>4.0</td>\n",
       "      <td>1.0</td>\n",
       "      <td>27</td>\n",
       "      <td>1.0</td>\n",
       "      <td>2.0</td>\n",
       "      <td>1.0</td>\n",
       "    </tr>\n",
       "    <tr>\n",
       "      <th>4</th>\n",
       "      <td>1971</td>\n",
       "      <td>2</td>\n",
       "      <td>4</td>\n",
       "      <td>1</td>\n",
       "      <td>3.0</td>\n",
       "      <td>4</td>\n",
       "      <td>1.0</td>\n",
       "      <td>1.0</td>\n",
       "      <td>1.0</td>\n",
       "      <td>2.0</td>\n",
       "      <td>...</td>\n",
       "      <td>2.0</td>\n",
       "      <td>1.0</td>\n",
       "      <td>1.0</td>\n",
       "      <td>1.0</td>\n",
       "      <td>4.0</td>\n",
       "      <td>1.0</td>\n",
       "      <td>8</td>\n",
       "      <td>2.0</td>\n",
       "      <td>1.0</td>\n",
       "      <td>3.0</td>\n",
       "    </tr>\n",
       "    <tr>\n",
       "      <th>5</th>\n",
       "      <td>1957</td>\n",
       "      <td>2</td>\n",
       "      <td>5</td>\n",
       "      <td>3</td>\n",
       "      <td>1.0</td>\n",
       "      <td>4</td>\n",
       "      <td>3.0</td>\n",
       "      <td>2.0</td>\n",
       "      <td>4.0</td>\n",
       "      <td>4.0</td>\n",
       "      <td>...</td>\n",
       "      <td>1.0</td>\n",
       "      <td>2.0</td>\n",
       "      <td>2.0</td>\n",
       "      <td>2.0</td>\n",
       "      <td>2.0</td>\n",
       "      <td>1.0</td>\n",
       "      <td>53</td>\n",
       "      <td>1.0</td>\n",
       "      <td>2.0</td>\n",
       "      <td>1.0</td>\n",
       "    </tr>\n",
       "    <tr>\n",
       "      <th>6</th>\n",
       "      <td>1973</td>\n",
       "      <td>2</td>\n",
       "      <td>5</td>\n",
       "      <td>1</td>\n",
       "      <td>3.0</td>\n",
       "      <td>4</td>\n",
       "      <td>4.0</td>\n",
       "      <td>5.0</td>\n",
       "      <td>4.0</td>\n",
       "      <td>4.0</td>\n",
       "      <td>...</td>\n",
       "      <td>1.0</td>\n",
       "      <td>2.0</td>\n",
       "      <td>2.0</td>\n",
       "      <td>2.0</td>\n",
       "      <td>3.0</td>\n",
       "      <td>1.0</td>\n",
       "      <td>53</td>\n",
       "      <td>1.0</td>\n",
       "      <td>2.0</td>\n",
       "      <td>1.0</td>\n",
       "    </tr>\n",
       "  </tbody>\n",
       "</table>\n",
       "<p>5 rows × 31 columns</p>\n",
       "</div>"
      ],
      "text/plain": [
       "   birthyr  gender  educ  race  marstat  region  National Economy  Income  \\\n",
       "0     1950       2     6     2      3.0       1               4.0     3.0   \n",
       "3     1970       2     5     1      6.0       2               4.0     3.0   \n",
       "4     1971       2     4     1      3.0       4               1.0     1.0   \n",
       "5     1957       2     5     3      1.0       4               3.0     2.0   \n",
       "6     1973       2     5     1      3.0       4               4.0     5.0   \n",
       "\n",
       "   Trump Approval  Congress Approval  ...  M4A  Repeal ACA  Paris Accord  TPP  \\\n",
       "0             4.0                4.0  ...  1.0         2.0           2.0  2.0   \n",
       "3             4.0                3.0  ...  1.0         2.0           2.0  2.0   \n",
       "4             1.0                2.0  ...  2.0         1.0           1.0  1.0   \n",
       "5             4.0                4.0  ...  1.0         2.0           2.0  2.0   \n",
       "6             4.0                4.0  ...  1.0         2.0           2.0  2.0   \n",
       "\n",
       "   Ideology  sexuality  inputstate  EPA CO2 Regulate  Iran Deal  Party  \n",
       "0       2.0        1.0          34               1.0        2.0    1.0  \n",
       "3       4.0        1.0          27               1.0        2.0    1.0  \n",
       "4       4.0        1.0           8               2.0        1.0    3.0  \n",
       "5       2.0        1.0          53               1.0        2.0    1.0  \n",
       "6       3.0        1.0          53               1.0        2.0    1.0  \n",
       "\n",
       "[5 rows x 31 columns]"
      ]
     },
     "execution_count": 4,
     "metadata": {},
     "output_type": "execute_result"
    }
   ],
   "source": [
    "data = pd.read_csv(\"cces18_common_vv2.csv\")\n",
    "data = data.dropna()\n",
    "print(data.shape)\n",
    "data.head()"
   ]
  },
  {
   "cell_type": "code",
   "execution_count": null,
   "metadata": {},
   "outputs": [],
   "source": [
    "data_Y = data['Party']\n",
    "data_X = data.drop(['Party'], axis=1)\n",
    "data_X = data_X.drop(['Ideology'], axis=1)\n",
    "print(data_X.shape)\n",
    "print(data_Y.shape)\n",
    "data_X.head()"
   ]
  },
  {
   "cell_type": "markdown",
   "metadata": {},
   "source": [
    "## Data Exploration\n",
    "Alternative looks into our dataset for better comprehension of the features"
   ]
  },
  {
   "cell_type": "code",
   "execution_count": null,
   "metadata": {},
   "outputs": [],
   "source": [
    "for col in data_X:\n",
    "    print(data[col].unique())"
   ]
  },
  {
   "cell_type": "markdown",
   "metadata": {},
   "source": [
    "## Neural Network\n",
    "Using a Neural Network MLFClassifier & gaining a measure of accuracy to assess our model"
   ]
  },
  {
   "cell_type": "code",
   "execution_count": null,
   "metadata": {},
   "outputs": [],
   "source": [
    "from sklearn.neural_network import MLPClassifier\n",
    "from sklearn.preprocessing import StandardScaler\n",
    "from sklearn.pipeline import Pipeline\n",
    "\n",
    "scaler = StandardScaler()\n",
    "clf = MLPClassifier()\n",
    "pipeline = Pipeline(steps = [('scaler', scaler), ('clf', clf)])\n",
    "\n",
    "param_grid = {'clf__hidden_layer_sizes': [10, 20, 30, 40, 50, 60],\n",
    "             'clf__activation': ['logistic', 'tanh', 'relu']}\n",
    "\n",
    "grid_search = GridSearchCV(pipeline, param_grid, cv=5)\n",
    "\n",
    "scores = cross_val_score(grid_search, data_X, data_Y, cv=5)\n",
    "print(\"Accuracy:\", scores.mean()*100)"
   ]
  },
  {
   "cell_type": "markdown",
   "metadata": {},
   "source": [
    "## Final Model\n",
    "Using the Neural Network model & classifer & creating a final model to predict newly inputted records & gaining insight into voter preferences, decisions & outlooks"
   ]
  },
  {
   "cell_type": "code",
   "execution_count": null,
   "metadata": {},
   "outputs": [],
   "source": [
    "import pickle\n",
    "\n",
    "scaler = StandardScaler()\n",
    "clf = MLPClassifier()\n",
    "pipeline = Pipeline(steps = [('scaler', scaler), ('clf', clf)])\n",
    "\n",
    "param_grid = {'clf__hidden_layer_sizes': [10, 20, 30, 40, 50, 60],\n",
    "             'clf__activation': ['logistic', 'tanh', 'relu']}\n",
    "\n",
    "grid_search = GridSearchCV(pipeline, param_grid, cv=5)\n",
    "final = grid_search.fit(data_X, data_Y)\n",
    "\n",
    "#final model\n",
    "final_model = final\n",
    "\n",
    "filename = 'finalized_model.sav'\n",
    "pickle.dump(final_model, open(filename, 'wb'))"
   ]
  },
  {
   "cell_type": "code",
   "execution_count": null,
   "metadata": {},
   "outputs": [],
   "source": [
    "record = [[ 1970, 2, 5, 3, 2, 2,\n",
    "  3, 3, 4, 3, 3, 2,\n",
    " 2, 2, 1, 3, 1, 2, 1, 2, 1, 2, 1, 1, 1, 43, 1, \n",
    " 3, 2 ]]\n",
    "\n",
    " \n",
    "# load the model\n",
    "loaded_model = pickle.load(open(filename, 'rb'))\n",
    "\n",
    "prediction = loaded_model.predict(record)\n",
    "if prediction == 1:\n",
    "    print('Democrat')\n",
    "elif prediction == 2:\n",
    "    print('Republican')\n",
    "elif prediction == 3:\n",
    "    print('Independent')\n",
    "elif prediction == 4:\n",
    "     print('Other')\n",
    "else:\n",
    "    print('Not sure')"
   ]
  }
 ],
 "metadata": {
  "kernelspec": {
   "display_name": "Python 3",
   "language": "python",
   "name": "python3"
  },
  "language_info": {
   "codemirror_mode": {
    "name": "ipython",
    "version": 3
   },
   "file_extension": ".py",
   "mimetype": "text/x-python",
   "name": "python",
   "nbconvert_exporter": "python",
   "pygments_lexer": "ipython3",
   "version": "3.7.3"
  }
 },
 "nbformat": 4,
 "nbformat_minor": 2
}
